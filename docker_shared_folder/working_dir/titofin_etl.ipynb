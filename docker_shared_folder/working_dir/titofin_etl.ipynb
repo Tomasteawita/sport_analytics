{
 "cells": [
  {
   "cell_type": "code",
   "execution_count": 41,
   "metadata": {},
   "outputs": [],
   "source": [
    "# Importar módulo necesario\n",
    "from pyspark.sql import SparkSession\n",
    "from pyspark.sql.functions import col, when, udf, regexp_replace, floor\n"
   ]
  },
  {
   "cell_type": "code",
   "execution_count": 33,
   "metadata": {},
   "outputs": [],
   "source": [
    "# Crear una instancia de SparkSession\n",
    "spark = SparkSession.builder.getOrCreate()"
   ]
  },
  {
   "cell_type": "code",
   "execution_count": 34,
   "metadata": {},
   "outputs": [],
   "source": [
    "# Leer el archivo CSV\n",
    "df = spark.read.csv(\"./santander/titofin_inventario-20240327.csv\", sep=\";\", header=True)"
   ]
  },
  {
   "cell_type": "code",
   "execution_count": 35,
   "metadata": {},
   "outputs": [
    {
     "name": "stdout",
     "output_type": "stream",
     "text": [
      "root\n",
      " |-- cartera: string (nullable = true)\n",
      " |-- especie_codigo_sam: string (nullable = true)\n",
      " |-- secid: string (nullable = true)\n",
      " |-- rubro_st: string (nullable = true)\n",
      " |-- valor_nominal: string (nullable = true)\n",
      " |-- valor_contable: string (nullable = true)\n",
      " |-- fecha_incorporacion_tenencia: string (nullable = true)\n",
      " |-- fecha_vencimiento: string (nullable = true)\n",
      " |-- tipo_valoracion: string (nullable = true)\n",
      " |-- isin: string (nullable = true)\n",
      "\n"
     ]
    }
   ],
   "source": [
    "# Mostrar esquema del DataFrame\n",
    "df.printSchema()"
   ]
  },
  {
   "cell_type": "code",
   "execution_count": 36,
   "metadata": {},
   "outputs": [],
   "source": [
    "# pasar fecha en formato dd/mm/yyyy a formato yyyy-mm-dd\n",
    "# Definir la función format_date como un UDF\n",
    "# Define the format_date function as a UDF\n",
    "def format_date(date):\n",
    "    if date is None:\n",
    "        return None\n",
    "    return date[6:] + \"-\" + date[3:5] + \"-\" + date[:2]\n",
    "\n",
    "format_date_udf = udf(format_date)"
   ]
  },
  {
   "cell_type": "code",
   "execution_count": 37,
   "metadata": {},
   "outputs": [
    {
     "name": "stdout",
     "output_type": "stream",
     "text": [
      "+-------+-----+-------------+--------------+----------------------------+-----------------+---------------+----+------------+-------+\n",
      "|cartera|secid|valor_nominal|valor_contable|fecha_incorporacion_tenencia|fecha_vencimiento|tipo_valoracion|isin|rubro_altair|especie|\n",
      "+-------+-----+-------------+--------------+----------------------------+-----------------+---------------+----+------------+-------+\n",
      "|    TRD| null|         8118|     4241655.0|                  2020-09-08|       2038-01-09|              1|null|     1250405| ARN38D|\n",
      "|    TRD| null|       151942|   58289663.51|                  2020-09-08|       2041-07-09|              2|null|     1250405| ARN41E|\n",
      "|    TRD| null|        77966|   45464302.83|                  2020-09-08|       2030-07-09|              2|null|     1250405| AR30DR|\n",
      "|    TRD| null|         2191|    1160488.27|                  2020-09-08|       2029-07-09|              2|null|     1250405| AR30D5|\n",
      "|    TRD| null|        50000|    27434250.2|                  2020-09-28|       2030-07-09|              1|null|     1455453|  AS30D|\n",
      "+-------+-----+-------------+--------------+----------------------------+-----------------+---------------+----+------------+-------+\n",
      "only showing top 5 rows\n",
      "\n"
     ]
    }
   ],
   "source": [
    "df_cartera_de_especies_2 = df.withColumn(\"secid\", when(col(\"secid\").isNull() | (col(\"secid\") == \"NI\"), None).otherwise(col(\"secid\"))) \\\n",
    "    .withColumn(\"isin\", when((col(\"isin\").isNull()) | (col(\"isin\") == \"NI\"), None).otherwise(col(\"isin\"))) \\\n",
    "    .withColumn(\"rubro_altair\", when(col(\"rubro_st\").isNull(), None).otherwise(regexp_replace(col(\"rubro_st\"), '-', ''))) \\\n",
    "    .withColumn(\"fecha_incorporacion_tenencia\", format_date_udf(col(\"fecha_incorporacion_tenencia\"))) \\\n",
    "    .withColumn(\"fecha_vencimiento\", format_date_udf(col(\"fecha_vencimiento\"))) \\\n",
    "    .withColumn(\"especie\", col(\"especie_codigo_sam\")).drop(\"especie_codigo_sam\", \"rubro_st\") \\\n",
    "    .withColumn(\"valor_nominal\", floor(col(\"valor_nominal\")))\n",
    "    # Sacarle los decimales a la columna \"valor_nominal\"\n",
    "\n",
    "df_cartera_de_especies_2.show(5)\n",
    "                            \n",
    "                            "
   ]
  },
  {
   "cell_type": "code",
   "execution_count": 38,
   "metadata": {},
   "outputs": [],
   "source": [
    "# reordenar las columnas del DataFrame df_cartera_de_especies_2\n",
    "\n",
    "df_cartera_de_especies_2 = df_cartera_de_especies_2.select('cartera','especie','secid','rubro_altair','valor_nominal','valor_contable','fecha_incorporacion_tenencia','fecha_vencimiento','tipo_valoracion','isin')\n"
   ]
  },
  {
   "cell_type": "code",
   "execution_count": 39,
   "metadata": {},
   "outputs": [
    {
     "name": "stdout",
     "output_type": "stream",
     "text": [
      "+-------+-------+-----+------------+-------------+--------------+----------------------------+-----------------+---------------+----+\n",
      "|cartera|especie|secid|rubro_altair|valor_nominal|valor_contable|fecha_incorporacion_tenencia|fecha_vencimiento|tipo_valoracion|isin|\n",
      "+-------+-------+-----+------------+-------------+--------------+----------------------------+-----------------+---------------+----+\n",
      "|    TRD| ARN38D| null|     1250405|         8118|     4241655.0|                  2020-09-08|       2038-01-09|              1|null|\n",
      "|    TRD| ARN41E| null|     1250405|       151942|   58289663.51|                  2020-09-08|       2041-07-09|              2|null|\n",
      "|    TRD| AR30DR| null|     1250405|        77966|   45464302.83|                  2020-09-08|       2030-07-09|              2|null|\n",
      "|    TRD| AR30D5| null|     1250405|         2191|    1160488.27|                  2020-09-08|       2029-07-09|              2|null|\n",
      "|    TRD|  AS30D| null|     1455453|        50000|    27434250.2|                  2020-09-28|       2030-07-09|              1|null|\n",
      "+-------+-------+-----+------------+-------------+--------------+----------------------------+-----------------+---------------+----+\n",
      "only showing top 5 rows\n",
      "\n"
     ]
    }
   ],
   "source": [
    "df_cartera_de_especies_2.show(5)"
   ]
  },
  {
   "cell_type": "code",
   "execution_count": 40,
   "metadata": {},
   "outputs": [],
   "source": [
    "df_cartera_de_especies_2.write.csv(\"./santander/cartera_de_especies-20240327.csv\", sep=\";\", header=True, mode=\"overwrite\")"
   ]
  }
 ],
 "metadata": {
  "kernelspec": {
   "display_name": "Python 3 (ipykernel)",
   "language": "python",
   "name": "python3"
  }
 },
 "nbformat": 4,
 "nbformat_minor": 2
}
