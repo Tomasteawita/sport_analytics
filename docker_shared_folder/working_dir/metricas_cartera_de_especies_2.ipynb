{
 "cells": [
  {
   "cell_type": "code",
   "execution_count": 176,
   "metadata": {},
   "outputs": [],
   "source": [
    "# Importar módulo necesario\n",
    "from pyspark.sql import SparkSession\n",
    "from pyspark.sql.functions import col, when, udf, regexp_replace, lit, trim,  unix_timestamp, from_unixtime, datediff, to_date, date_format\n",
    "from pyspark.sql.types import StringType\n",
    "\n",
    "from datetime import datetime"
   ]
  },
  {
   "cell_type": "code",
   "execution_count": 177,
   "metadata": {},
   "outputs": [],
   "source": [
    "# Crear una instancia de SparkSession\n",
    "spark = SparkSession.builder.getOrCreate()"
   ]
  },
  {
   "cell_type": "code",
   "execution_count": 178,
   "metadata": {},
   "outputs": [],
   "source": [
    "# Leer el archivo CSV\n",
    "df_arda_mesamf_especies = spark.read.csv(\"./santander/tablas_para_metricas/arda_mesamf_especies_202404231048.csv\", sep=\";\", header=True)\n",
    "df_cartera_de_especies_2 = spark.read.csv(\"./santander/tablas_para_metricas/cartera_de_especies_2_202404231126.csv\", sep=\";\", header=True)\n",
    "df_metrics_currency = spark.read.csv(\"./santander/tablas_para_metricas/metrics_currency.csv\", sep=\";\", header=True)"
   ]
  },
  {
   "cell_type": "code",
   "execution_count": 179,
   "metadata": {},
   "outputs": [],
   "source": [
    "df_cartera_de_especies_2.drop(\"fecha_emision\")\n",
    "\n",
    "# left join entre df_arda_mesamf_especies y df_cartera_de_especies_2 por especie y cod_especie y \n",
    "df_join_cartera_arda_currency = df_cartera_de_especies_2.alias(\"cartera\") \\\n",
    "                                .join(df_arda_mesamf_especies.alias(\"arda\"), (trim(col(\"cartera.especie\")) == trim(col(\"arda.cod_especie\"))), how=\"left\") \\\n",
    "                                .join(df_metrics_currency.alias(\"currency\"), (col(\"arda.cotiza\") == col(\"currency.more_detail\")), how=\"left\")\n",
    "\n",
    "\n",
    "\n"
   ]
  },
  {
   "cell_type": "code",
   "execution_count": 180,
   "metadata": {},
   "outputs": [],
   "source": [
    "def handle_isin(isin):\n",
    "    if isin is None or isin == '':\n",
    "        return '000000000000'\n",
    "    else:\n",
    "        return isin\n",
    "\n",
    "def calculate_mat(date_str):\n",
    "    if date_str is None:\n",
    "        return None\n",
    "    date_format = \"%Y-%m-%d\"\n",
    "    date = datetime.strptime(date_str, date_format)\n",
    "    partition_nwca = datetime.strptime('2024-03-27', \"%Y-%m-%d\")\n",
    "    diff = (partition_nwca - date).days\n",
    "    if diff < 90:\n",
    "        return 'MAT2'\n",
    "    elif diff >= 90 and diff < 365:\n",
    "        return 'MAT3'\n",
    "    elif diff >= 365 and diff < 365*2:\n",
    "        return 'MAT4'\n",
    "    elif diff >= 365*2:\n",
    "        return 'MAT5'\n",
    "    else:\n",
    "        return 'MAT1'\n",
    "\n",
    "def calculate_days(date_str):\n",
    "    if date_str is None:\n",
    "        return None\n",
    "    date_format = \"%Y-%m-%d\"\n",
    "    date = datetime.strptime(date_str, date_format)\n",
    "    base_date = datetime.strptime('1900-01-01', \"%Y-%m-%d\")\n",
    "    return str((date - base_date).days + 2)\n",
    "\n",
    "calculate_mat_udf = udf(calculate_mat, StringType())\n",
    "handle_isin_udf = udf(handle_isin, StringType())\n",
    "ddate_udf = udf(calculate_days, StringType())"
   ]
  },
  {
   "cell_type": "code",
   "execution_count": 182,
   "metadata": {},
   "outputs": [
    {
     "data": {
      "text/plain": [
       "'50414'"
      ]
     },
     "execution_count": 182,
     "metadata": {},
     "output_type": "execute_result"
    },
    {
     "name": "stderr",
     "output_type": "stream",
     "text": [
      "----------------------------------------\n",
      "Exception occurred during processing of request from ('127.0.0.1', 42474)\n",
      "Traceback (most recent call last):\n",
      "  File \"/opt/conda/lib/python3.10/socketserver.py\", line 316, in _handle_request_noblock\n",
      "    self.process_request(request, client_address)\n",
      "  File \"/opt/conda/lib/python3.10/socketserver.py\", line 347, in process_request\n",
      "    self.finish_request(request, client_address)\n",
      "  File \"/opt/conda/lib/python3.10/socketserver.py\", line 360, in finish_request\n",
      "    self.RequestHandlerClass(request, client_address, self)\n",
      "  File \"/opt/conda/lib/python3.10/socketserver.py\", line 747, in __init__\n",
      "    self.handle()\n",
      "  File \"/usr/local/spark/python/pyspark/accumulators.py\", line 281, in handle\n",
      "    poll(accum_updates)\n",
      "  File \"/usr/local/spark/python/pyspark/accumulators.py\", line 253, in poll\n",
      "    if func():\n",
      "  File \"/usr/local/spark/python/pyspark/accumulators.py\", line 257, in accum_updates\n",
      "    num_updates = read_int(self.rfile)\n",
      "  File \"/usr/local/spark/python/pyspark/serializers.py\", line 596, in read_int\n",
      "    raise EOFError\n",
      "EOFError\n",
      "----------------------------------------\n"
     ]
    }
   ],
   "source": [
    "calculate_days(\"2038-01-09\")"
   ]
  },
  {
   "cell_type": "code",
   "execution_count": 181,
   "metadata": {},
   "outputs": [
    {
     "name": "stdout",
     "output_type": "stream",
     "text": [
      "+-------+-------+------+------------+-------------+---------------+-------------+----------------------------+-----------------+---------------+---------------+-----+----+------------+---+----+----+----+\n",
      "|cartera|especie|sec_id|rubro_altair|valor_nominal|valor_contable |fecha_emision|fecha_incorporacion_tenencia|fecha_vencimiento|tipo_valoracion|nomb           |ddate|mat |isin        |tc |ocig|gros|rnm |\n",
      "+-------+-------+------+------------+-------------+---------------+-------------+----------------------------+-----------------+---------------+---------------+-----+----+------------+---+----+----+----+\n",
      "|TRD    |ARN38D |null  |1250405     |8118.0       |4241655.0      |2020-09-04   |2020-09-08                  |2038-01-09       |1              |BONO U$ 2038   |50414|MAT2|US040114HU71|840|null|null|null|\n",
      "|TRD    |ARN41E |null  |1250405     |151942.0     |58289663.51    |2020-09-04   |2020-09-08                  |2041-07-09       |2              |BONO EU 2041   |51691|MAT2|XS2177365363|978|null|null|null|\n",
      "|TRD    |AR30DR |null  |1250405     |77966.0      |45464302.83    |2020-09-04   |2020-09-08                  |2030-07-09       |2              |BONO U$ 2030   |47673|MAT2|US040114HS26|840|null|null|null|\n",
      "|TRD    |AR30D5 |null  |1250405     |2191.0       |1160488.27     |2020-09-04   |2020-09-08                  |2029-07-09       |2              |BON EU 0.5%    |47308|MAT2|XS2200244072|978|null|null|null|\n",
      "|TRD    |AS30D  |null  |1455453     |50000.0      |27434250.2     |2020-09-04   |2020-09-28                  |2030-07-09       |1              |BONUSD2030LA   |47673|MAT2|ARARGE3209S6|840|null|null|null|\n",
      "|TRD    |AS30D  |null  |1250405     |88931.0      |48795106.08    |2020-09-04   |2020-09-28                  |2030-07-09       |2              |BONUSD2030LA   |47673|MAT2|ARARGE3209S6|840|null|null|null|\n",
      "|ALC    |PAP0CD |null  |1210350     |115366.0     |20281342.8     |2003-12-31   |2017-08-01                  |2038-12-31       |2              |PAR$ LEY ARG 2 |50770|MAT2|ARARGE03G712|032|null|null|null|\n",
      "|ALC    |PARPCD |null  |1210350     |37888.0      |7019699.2      |2003-12-31   |2017-08-01                  |2038-12-31       |2              |PAR $ LEY ARG  |50770|MAT2|ARARGE03E105|032|null|null|null|\n",
      "|ALC    |DICP   |null  |3219064     |1200000.0    |362850048      |2003-12-31   |2005-11-30                  |2033-12-31       |2              |DISC $ LEY ARG |48944|MAT2|ARARGE03E121|032|null|null|null|\n",
      "|TRD    |DICP   |null  |1210005     |1200000.0    |362850048      |2003-12-31   |2023-01-30                  |2033-12-31       |2              |DISC $ LEY ARG |48944|MAT2|ARARGE03E121|032|null|null|null|\n",
      "|ALC    |DICPCD |null  |1210350     |477443.0     |144366846.22   |2003-12-31   |2017-08-01                  |2033-12-31       |2              |DIS $ LEY ARG  |48944|MAT2|ARARGE03E121|032|null|null|null|\n",
      "|ALC    |DIP0CD |null  |1210350     |56448.0      |18006912       |2003-12-31   |2017-08-01                  |2038-12-31       |2              |DISC ARP CANJE2|50770|MAT2|ARARGE03G696|032|null|null|null|\n",
      "|ALC    |RIOPN2 |null  |3651802     |60000000     |-46911150      |2017-03-27   |1901-01-01                  |2027-03-27       |2              |PROM NOTES RIO |46473|MAT2|USP1507AAC01|840|null|null|null|\n",
      "|ALC    |RIOPN2 |null  |3650802     |60000000     |-51480000000   |2017-03-27   |1901-01-01                  |2027-03-27       |2              |PROM NOTES RIO |46473|MAT2|USP1507AAC01|840|null|null|null|\n",
      "|ALC    |RIOPN3 |null  |3651802     |100000000    |-1248604500    |2017-07-03   |1901-01-01                  |2027-07-03       |2              |PROM NOTES 2027|46571|MAT2|USP1507AAE66|840|null|null|null|\n",
      "|ALC    |RIOPN3 |null  |3650802     |100000000    |-85800000000   |2017-07-03   |1901-01-01                  |2027-07-03       |2              |PROM NOTES 2027|46571|MAT2|USP1507AAE66|840|null|null|null|\n",
      "|TRD    |TVPP   |null  |1210005     |17255.0      |1225.11        |2003-12-31   |2005-11-30                  |2035-12-15       |2              |PBI EN ARP ARG |49658|MAT2|ARARGE03E147|032|null|null|null|\n",
      "|ALC    |TVPPCD |null  |1210350     |1737512.0    |123363.35      |2003-12-31   |2017-08-01                  |2035-12-15       |2              |PBI EN ARP ARG |49658|MAT2|ARARGE03E147|032|null|null|null|\n",
      "|TRD    |TX26   |null  |1210005     |77262285     |1216880988.75  |2020-09-04   |2023-01-06                  |2026-11-09       |1              |BONCER2026     |46335|MAT2|ARARGE3209W8|032|null|null|null|\n",
      "|TRD    |TX26   |null  |3219082     |20000000     |-315000000     |2020-09-04   |2023-01-06                  |2026-11-09       |1              |BONCER2026     |46335|MAT2|ARARGE3209W8|032|null|null|null|\n",
      "|ALC    |TX26   |null  |3219064     |50000000     |787500000      |2020-09-04   |1901-01-01                  |2026-11-09       |1              |BONCER2026     |46335|MAT2|ARARGE3209W8|032|null|null|null|\n",
      "|INV    |TECHO1 |null  |1214551     |1410105.0    |827731.64      |2021-10-26   |2021-10-25                  |2025-10-25       |2              |ON TECHO CL1   |45955|MAT2|ARUNTE560016|032|null|null|null|\n",
      "|INV    |PLZC6O |null  |1214541     |765360.0     |600624532.01   |2021-02-24   |2021-02-24                  |2024-08-24       |2              |ON PLAZA UVA C6|45528|MAT2|ARPLAZ560060|032|null|null|null|\n",
      "|INV    |TLCAO  |null  |1214559     |3532800.0    |2766041088     |2021-12-10   |2021-12-10                  |2025-05-10       |2              |ON TELECOM CL10|45787|MAT2|ARTECO5600C4|032|null|null|null|\n",
      "|INV    |MTCIO  |null  |1214544     |4774835.0    |3739252512.56  |2021-06-25   |2021-06-25                  |2024-06-25       |2              |ON MASTELLONE I|45468|MAT2|ARMAST560031|032|null|null|null|\n",
      "|INV    |PNC10O |null  |1214558     |4171300.0    |3291435544.17  |2021-04-09   |2021-04-09                  |2025-04-09       |2              |ON PAE CL 10   |45756|MAT2|ARAXIO5600I8|032|null|null|null|\n",
      "|TRD    |T1X4   |null  |1210005     |23929594     |320519818.96   |2021-02-26   |2022-10-21                  |2024-07-26       |1              |BONOCER 26/7/24|45499|MAT2|ARARGE320AI3|032|null|null|null|\n",
      "|TRD    |TB24   |null  |1210005     |1752933332   |2340165998.22  |2022-04-18   |2022-04-18                  |2024-04-18       |2              |BONO BADL TB24 |45400|MAT2|ARARGE320C26|032|null|null|null|\n",
      "|TRD    |TV24   |null  |1250433     |1396897.0    |1167805892     |2022-04-18   |2022-12-21                  |2024-04-30       |1              |BONO TV24D     |45412|MAT2|ARARGE320C18|840|null|null|null|\n",
      "|ALC    |TV24   |null  |1250435     |831847.0     |695424092      |2022-04-18   |1901-01-01                  |2024-04-30       |1              |BONO TV24D     |45412|MAT2|ARARGE320C18|840|null|null|null|\n",
      "|INV    |RB54O  |null  |1214546     |400000000    |107920000      |2022-05-24   |2022-05-24                  |2024-05-24       |2              |ON ROMBO S 54  |45436|MAT2|ARROMB5600Q3|032|null|null|null|\n",
      "|INV    |CS37O  |null  |1257302     |4877607.0    |4954185.43     |2022-06-15   |2022-06-15                  |2025-03-15       |2              |ON CRES 37     |45731|MAT2|ARCRES5600U1|840|null|null|null|\n",
      "|TRD    |LMS4O  |null  |1250434     |233777.0     |187021600      |2022-09-07   |2022-09-07                  |2025-09-07       |2              |ON ALUAR CL 4  |45907|MAT2|ARALUA560039|840|null|null|null|\n",
      "|ALC    |TB27C  |null  |1210416     |5037500000   |5335502425.34  |2022-11-18   |2023-01-20                  |2027-11-23       |2              |TB27C          |46714|MAT2|ARARGE320D33|032|null|null|null|\n",
      "|ALC    |TB27C  |null  |1210448     |10462500000  |11081428116.76 |2022-11-18   |2023-01-20                  |2027-11-23       |2              |TB27C          |46714|MAT2|ARARGE320D33|032|null|null|null|\n",
      "|ALC    |TB27C  |null  |1210413     |1800000000   |1947663270     |2022-11-18   |2023-01-20                  |2027-11-23       |1              |TB27C          |46714|MAT2|ARARGE320D33|032|null|null|null|\n",
      "|INV    |TTC5O  |null  |1214564     |3600000000   |4325400000     |2023-01-11   |2023-01-16                  |2024-07-16       |2              |ON TEC C5      |45489|MAT2|ARTECP560065|032|null|null|null|\n",
      "|INV    |LOC1O  |null  |1214565     |576000000    |627609600      |2023-02-13   |2023-02-22                  |2024-08-22       |2              |ON LOMA NEGRA  |45526|MAT2|ARLOMA560033|032|null|null|null|\n",
      "|INV    |MGCGO  |null  |1214556     |3652746873   |4442512534.37  |2023-01-06   |2023-03-06                  |2024-07-11       |2              |ON PAMPA C15   |45484|MAT2|ARPAMP5600H5|032|null|null|null|\n",
      "|TRD    |MGCGO  |null  |1210013     |400000000    |486778000      |2023-01-06   |2023-03-06                  |2024-07-11       |2              |ON PAMPA C15   |45484|MAT2|ARPAMP5600H5|032|null|null|null|\n",
      "|ALC    |T2X5P  |null  |1711432     |1365101359   |4800175186.66  |2023-03-09   |2023-03-14                  |2025-02-14       |2              |BONCER +4,25%  |45702|MAT2|ARARGE320DI7|032|null|null|null|\n",
      "|ALC    |T2X5P  |null  |1711431     |4102700000   |14426532219.37 |2023-03-09   |2023-03-14                  |2025-02-14       |2              |BONCER +4,25%  |45702|MAT2|ARARGE320DI7|032|null|null|null|\n",
      "|ALC    |T2X5P  |null  |1210414     |39488713869  |138856168590.31|2023-03-09   |2023-03-14                  |2025-02-14       |2              |BONCER +4,25%  |45702|MAT2|ARARGE320DI7|032|null|null|null|\n",
      "|ALC    |T2X5P  |null  |1210447     |85000000000  |298889813695.09|2023-03-09   |2023-03-14                  |2025-02-14       |2              |BONCER +4,25%  |45702|MAT2|ARARGE320DI7|032|null|null|null|\n",
      "|ALC    |T2X5P  |null  |1711429     |2112220052   |7427306562.65  |2023-03-09   |2023-03-14                  |2025-02-14       |2              |BONCER +4,25%  |45702|MAT2|ARARGE320DI7|032|null|null|null|\n",
      "|TRD    |T2X5P  |null  |1210005     |299744238    |1371329888.85  |2023-03-09   |2023-03-14                  |2025-02-14       |1              |BONCER +4,25%  |45702|MAT2|ARARGE320DI7|032|null|null|null|\n",
      "|TRD    |T3X4P  |null  |1210005     |161639238    |615643447.73   |2023-03-09   |2023-03-14                  |2024-04-14       |1              |BONCER +3,75%  |45396|MAT2|ARARGE320DG1|032|null|null|null|\n",
      "|ALC    |T4X4P  |null  |3219064     |28100000     |130524500      |2023-03-09   |2023-03-14                  |2024-10-14       |1              |BONCER +4 %    |45579|MAT2|ARARGE320DH9|032|null|null|null|\n",
      "|TRD    |T4X4P  |null  |1210005     |684164529    |3177944237.21  |2023-03-09   |2023-03-14                  |2024-10-14       |1              |BONCER +4 %    |45579|MAT2|ARARGE320DH9|032|null|null|null|\n",
      "|INV    |PNQCO  |null  |1214539     |7738523799   |7916411242.11  |2023-03-09   |2023-03-14                  |2025-03-14       |2              |ON PAE CL 25   |45730|MAT2|ARAXIO5600W9|032|null|null|null|\n",
      "+-------+-------+------+------------+-------------+---------------+-------------+----------------------------+-----------------+---------------+---------------+-----+----+------------+---+----+----+----+\n",
      "only showing top 50 rows\n",
      "\n"
     ]
    }
   ],
   "source": [
    "df_to_load = df_join_cartera_arda_currency.withColumn(\"nomb\", col(\"arda.nombre_corto\")) \\\n",
    "                                                    .withColumn(\"ddate\", ddate_udf(col(\"cartera.fecha_vencimiento\"))) \\\n",
    "                                                    .withColumn(\"arda.isin\", handle_isin_udf(col(\"arda.isin\"))) \\\n",
    "                                                    .withColumn(\"mat\", calculate_mat_udf(col(\"cartera.fecha_vencimiento\"))) \\\n",
    "                                                    .withColumn(\"tc\", col(\"transaction_currency\")) \n",
    "\n",
    "\n",
    "\n",
    "# df_to_load.show(50, False)\n",
    "\n",
    "\n",
    "df_to_load = df_to_load.selectExpr(\n",
    "    \"cartera as cartera\",\n",
    "    \"especie as especie\",\n",
    "    \"sec_id as sec_id\",\n",
    "    \"rubro_altair as rubro_altair\",\n",
    "    \"valor_nominal as valor_nominal\",\n",
    "    \"valor_contable as valor_contable\",\n",
    "    \"arda.fecha_emision as fecha_emision\",\n",
    "    \"fecha_incorporacion_tenencia as fecha_incorporacion_tenencia\",\n",
    "    \"cartera.fecha_vencimiento as fecha_vencimiento\",\n",
    "    \"tipo_valoracion as tipo_valoracion\",\n",
    "    \"nomb as nomb\",\n",
    "    \"ddate as ddate\",\n",
    "    \"mat as mat\",\n",
    "    \"arda.isin as isin\",\n",
    "    \"tc as tc\",\n",
    "    \"ocig\",\n",
    "    \"gros\",\n",
    "    \"rnm\"\n",
    "    )\n",
    "\n",
    "df_to_load = df_to_load.withColumn(\"fecha_emision\", to_date(col(\"fecha_emision\"), \"dd/MM/yyyy\").cast(\"string\")) \n",
    "\n",
    "# guardar dataframe df_to_load a csv\n",
    "# df_to_load.write.csv(\"./santander/tablas_para_metricas/cartera_de_especies_202404231126.csv\", sep=\";\", mode=\"overwrite\")\n",
    "df_to_load.show(50, False)\n",
    "                                                    "
   ]
  },
  {
   "cell_type": "code",
   "execution_count": null,
   "metadata": {},
   "outputs": [],
   "source": []
  },
  {
   "cell_type": "code",
   "execution_count": null,
   "metadata": {},
   "outputs": [],
   "source": []
  }
 ],
 "metadata": {
  "kernelspec": {
   "display_name": "Python 3 (ipykernel)",
   "language": "python",
   "name": "python3"
  }
 },
 "nbformat": 4,
 "nbformat_minor": 2
}
